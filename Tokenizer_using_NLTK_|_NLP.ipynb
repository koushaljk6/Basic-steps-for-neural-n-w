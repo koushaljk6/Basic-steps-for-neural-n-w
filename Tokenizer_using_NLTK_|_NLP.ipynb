{
  "nbformat": 4,
  "nbformat_minor": 0,
  "metadata": {
    "colab": {
      "provenance": [],
      "authorship_tag": "ABX9TyO+7T7W8NPVPC2Ql4im4iyI",
      "include_colab_link": true
    },
    "kernelspec": {
      "name": "python3",
      "display_name": "Python 3"
    },
    "language_info": {
      "name": "python"
    }
  },
  "cells": [
    {
      "cell_type": "markdown",
      "metadata": {
        "id": "view-in-github",
        "colab_type": "text"
      },
      "source": [
        "<a href=\"https://colab.research.google.com/github/koushaljk6/Basic-steps-for-neural-n-w/blob/main/Tokenizer_using_NLTK_%7C_NLP.ipynb\" target=\"_parent\"><img src=\"https://colab.research.google.com/assets/colab-badge.svg\" alt=\"Open In Colab\"/></a>"
      ]
    },
    {
      "cell_type": "code",
      "execution_count": 1,
      "metadata": {
        "colab": {
          "base_uri": "https://localhost:8080/"
        },
        "id": "fVda9cu4TwV3",
        "outputId": "ac3e2d49-5360-4917-b891-2a4ec3841df2"
      },
      "outputs": [
        {
          "output_type": "stream",
          "name": "stdout",
          "text": [
            "Requirement already satisfied: nltk in /usr/local/lib/python3.10/dist-packages (3.8.1)\n",
            "Requirement already satisfied: click in /usr/local/lib/python3.10/dist-packages (from nltk) (8.1.7)\n",
            "Requirement already satisfied: joblib in /usr/local/lib/python3.10/dist-packages (from nltk) (1.4.2)\n",
            "Requirement already satisfied: regex>=2021.8.3 in /usr/local/lib/python3.10/dist-packages (from nltk) (2024.9.11)\n",
            "Requirement already satisfied: tqdm in /usr/local/lib/python3.10/dist-packages (from nltk) (4.66.5)\n"
          ]
        }
      ],
      "source": [
        "!pip install nltk"
      ]
    },
    {
      "cell_type": "code",
      "source": [
        "corpus = \"\"\"Hello Welcome, This is the koushal's preparation for new job.\n",
        "Hope, I will get a new job with good package from foreign companies! while working remotely.\n",
        "\"\"\"\n",
        "corpus\n",
        "#with the use of print function the \\n will disappear."
      ],
      "metadata": {
        "colab": {
          "base_uri": "https://localhost:8080/",
          "height": 53
        },
        "id": "D3j279DKT7M7",
        "outputId": "1da45f7e-4e79-452b-d360-bfa1d4261aa5"
      },
      "execution_count": 22,
      "outputs": [
        {
          "output_type": "execute_result",
          "data": {
            "text/plain": [
              "\"Hello Welcome, This is the koushal's preparation for new job.\\nHope, I will get a new job with good package from foreign companies! while working remotely.\\n\""
            ],
            "application/vnd.google.colaboratory.intrinsic+json": {
              "type": "string"
            }
          },
          "metadata": {},
          "execution_count": 22
        }
      ]
    },
    {
      "cell_type": "code",
      "source": [
        "print(corpus)"
      ],
      "metadata": {
        "colab": {
          "base_uri": "https://localhost:8080/"
        },
        "id": "E3bZIrA4WEi-",
        "outputId": "205e401b-4dce-4083-a8a0-004c8c9dea07"
      },
      "execution_count": 23,
      "outputs": [
        {
          "output_type": "stream",
          "name": "stdout",
          "text": [
            "Hello Welcome, This is the koushal's preparation for new job.\n",
            "Hope, I will get a new job with good package from foreign companies! while working remotely.\n",
            "\n"
          ]
        }
      ]
    },
    {
      "cell_type": "code",
      "source": [
        "#Some required files to run nltk\n",
        "import nltk\n",
        "nltk.download('punkt')"
      ],
      "metadata": {
        "id": "kMEWAwOgWpXW"
      },
      "execution_count": null,
      "outputs": []
    },
    {
      "cell_type": "code",
      "source": [
        "#Tokenization\n",
        "#Paragraphs --> Sentence\n",
        "from nltk.tokenize import sent_tokenize\n",
        "documents = sent_tokenize(corpus)"
      ],
      "metadata": {
        "id": "GNkQQ7TlWGgr"
      },
      "execution_count": 18,
      "outputs": []
    },
    {
      "cell_type": "code",
      "source": [
        "type(documents)"
      ],
      "metadata": {
        "colab": {
          "base_uri": "https://localhost:8080/"
        },
        "id": "kyvKdyg3XYBa",
        "outputId": "ecccca47-85ca-4c59-fd2f-a2b0346c56a2"
      },
      "execution_count": 19,
      "outputs": [
        {
          "output_type": "execute_result",
          "data": {
            "text/plain": [
              "list"
            ]
          },
          "metadata": {},
          "execution_count": 19
        }
      ]
    },
    {
      "cell_type": "code",
      "source": [
        "for sentence in documents:\n",
        "  print(sentence)"
      ],
      "metadata": {
        "colab": {
          "base_uri": "https://localhost:8080/"
        },
        "id": "aA8yK7lxZY4T",
        "outputId": "f1c74671-a93e-4fc3-dc12-f6df7536d9cb"
      },
      "execution_count": 20,
      "outputs": [
        {
          "output_type": "stream",
          "name": "stdout",
          "text": [
            "Hello Welcome, This is the preparation for new job.\n",
            "Hope, I will get a new job with good package from foreign companies!\n",
            "while working remotely.\n"
          ]
        }
      ]
    },
    {
      "cell_type": "code",
      "source": [
        "#Paragraph --> words\n",
        "from nltk.tokenize import word_tokenize\n",
        "word_tokenize(corpus)"
      ],
      "metadata": {
        "colab": {
          "base_uri": "https://localhost:8080/"
        },
        "id": "J6X1vOw2ZgW1",
        "outputId": "c7f4f7a5-cbb1-4d39-e909-26ee8d391b37"
      },
      "execution_count": 24,
      "outputs": [
        {
          "output_type": "execute_result",
          "data": {
            "text/plain": [
              "['Hello',\n",
              " 'Welcome',\n",
              " ',',\n",
              " 'This',\n",
              " 'is',\n",
              " 'the',\n",
              " 'koushal',\n",
              " \"'s\",\n",
              " 'preparation',\n",
              " 'for',\n",
              " 'new',\n",
              " 'job',\n",
              " '.',\n",
              " 'Hope',\n",
              " ',',\n",
              " 'I',\n",
              " 'will',\n",
              " 'get',\n",
              " 'a',\n",
              " 'new',\n",
              " 'job',\n",
              " 'with',\n",
              " 'good',\n",
              " 'package',\n",
              " 'from',\n",
              " 'foreign',\n",
              " 'companies',\n",
              " '!',\n",
              " 'while',\n",
              " 'working',\n",
              " 'remotely',\n",
              " '.']"
            ]
          },
          "metadata": {},
          "execution_count": 24
        }
      ]
    },
    {
      "cell_type": "code",
      "source": [
        "for sentence in documents:\n",
        "  print(word_tokenize(sentence))"
      ],
      "metadata": {
        "colab": {
          "base_uri": "https://localhost:8080/"
        },
        "id": "5f1rl5ofl4sS",
        "outputId": "63e95b75-8a34-4b67-e38e-c8744a4f17b1"
      },
      "execution_count": 25,
      "outputs": [
        {
          "output_type": "stream",
          "name": "stdout",
          "text": [
            "['Hello', 'Welcome', ',', 'This', 'is', 'the', 'preparation', 'for', 'new', 'job', '.']\n",
            "['Hope', ',', 'I', 'will', 'get', 'a', 'new', 'job', 'with', 'good', 'package', 'from', 'foreign', 'companies', '!']\n",
            "['while', 'working', 'remotely', '.']\n"
          ]
        }
      ]
    },
    {
      "cell_type": "code",
      "source": [
        "from nltk.tokenize import wordpunct_tokenize\n",
        "wordpunct_tokenize(corpus)"
      ],
      "metadata": {
        "colab": {
          "base_uri": "https://localhost:8080/"
        },
        "id": "uMB9ksirrt4D",
        "outputId": "63f0aef8-de6b-4fd2-de0d-4a66aedd9347"
      },
      "execution_count": 26,
      "outputs": [
        {
          "output_type": "execute_result",
          "data": {
            "text/plain": [
              "['Hello',\n",
              " 'Welcome',\n",
              " ',',\n",
              " 'This',\n",
              " 'is',\n",
              " 'the',\n",
              " 'koushal',\n",
              " \"'\",\n",
              " 's',\n",
              " 'preparation',\n",
              " 'for',\n",
              " 'new',\n",
              " 'job',\n",
              " '.',\n",
              " 'Hope',\n",
              " ',',\n",
              " 'I',\n",
              " 'will',\n",
              " 'get',\n",
              " 'a',\n",
              " 'new',\n",
              " 'job',\n",
              " 'with',\n",
              " 'good',\n",
              " 'package',\n",
              " 'from',\n",
              " 'foreign',\n",
              " 'companies',\n",
              " '!',\n",
              " 'while',\n",
              " 'working',\n",
              " 'remotely',\n",
              " '.']"
            ]
          },
          "metadata": {},
          "execution_count": 26
        }
      ]
    },
    {
      "cell_type": "code",
      "source": [
        "from nltk.tokenize import TreebankWordTokenizer"
      ],
      "metadata": {
        "id": "YZV7_z3br7kF"
      },
      "execution_count": 29,
      "outputs": []
    },
    {
      "cell_type": "code",
      "source": [
        "tokenizer = TreebankWordTokenizer()\n",
        "tokenizer.tokenize(corpus)\n",
        "#THE DIFFERENCE BETWEEN THIS TOKENIZER AND ABOVE TOKENIZER IS THAT\n",
        "#it only considers last full stop as seperate word and every other fullstops occured in between the paragraphs are not considered as separate word."
      ],
      "metadata": {
        "colab": {
          "base_uri": "https://localhost:8080/"
        },
        "id": "zZAxATRDshJF",
        "outputId": "b16a5fab-7edc-4234-fab3-2170ab08c233"
      },
      "execution_count": 31,
      "outputs": [
        {
          "output_type": "execute_result",
          "data": {
            "text/plain": [
              "['Hello',\n",
              " 'Welcome',\n",
              " ',',\n",
              " 'This',\n",
              " 'is',\n",
              " 'the',\n",
              " 'koushal',\n",
              " \"'s\",\n",
              " 'preparation',\n",
              " 'for',\n",
              " 'new',\n",
              " 'job.',\n",
              " 'Hope',\n",
              " ',',\n",
              " 'I',\n",
              " 'will',\n",
              " 'get',\n",
              " 'a',\n",
              " 'new',\n",
              " 'job',\n",
              " 'with',\n",
              " 'good',\n",
              " 'package',\n",
              " 'from',\n",
              " 'foreign',\n",
              " 'companies',\n",
              " '!',\n",
              " 'while',\n",
              " 'working',\n",
              " 'remotely',\n",
              " '.']"
            ]
          },
          "metadata": {},
          "execution_count": 31
        }
      ]
    },
    {
      "cell_type": "code",
      "source": [],
      "metadata": {
        "id": "c3D8GduAsy0L"
      },
      "execution_count": null,
      "outputs": []
    }
  ]
}